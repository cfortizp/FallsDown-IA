{
  "nbformat": 4,
  "nbformat_minor": 0,
  "metadata": {
    "colab": {
      "name": "Falldetektor 2.0.ipynb",
      "provenance": [],
      "collapsed_sections": []
    },
    "kernelspec": {
      "name": "python3",
      "display_name": "Python 3"
    }
  },
  "cells": [
    {
      "cell_type": "markdown",
      "metadata": {
        "id": "tj7FiAVed6kk",
        "colab_type": "text"
      },
      "source": [
        "# FALLDETEKTOR 2.0\n",
        "---\n",
        "### *Introducción a la Inteligencia Artificial*\n",
        "### *Septiembre de 2019*\n",
        "## Integrantes\n",
        "\n",
        "* Daniel Amaris(ddamarisr@unal.edu.co) - Ciencias de la Computacion\n",
        "* Christian Ortiz(cfortizp@unal.edu.co) - Ingenieria de Sistemas\n"
      ]
    },
    {
      "cell_type": "markdown",
      "metadata": {
        "id": "KQxcaPwlmQMe",
        "colab_type": "text"
      },
      "source": [
        "## Descripción\n",
        "\n",
        "Uno de los problemas más comunes que tienen los adultos mayores y sus familiares son las caídas. Este problema ha conducido a los adultos mayores a lesiones, discapacidades e incluso la muerte.\n",
        "\n",
        "Uno de los problemas más graves de las caídas es que la gran mayoría de ellas no son reportadas, se estima que el 80% de las caídas se producen en el hogar y el 20% restante fuera del él, también se sabe que un quinto de los adultos mayores de entre 65 a 69 años, y hasta dos quintos de los mayores de 80, sufren una caída en el último año.\n",
        "\n",
        "Así mismo existen las principales causas de caídas en el adulto mayor, son de tipo fisiológico, propias del envejecimiento, como la pérdida de masa muscular, disminución de la percepción de sensibilidad profunda, reducción de rango articular, problemas de visión. También se deben a problemas de tipo patológico, enfermedades como el Parkinson, alteraciones de la visión, secuelas de un accidente vascular cerebral y demencia.\n",
        "\n",
        "Actualmente existen diversos mecanismos para detectar las caídas, dispositivos electrónicos como el Angel4, Elea y Nursecall, pueden llegar a costar 149,95€ alrededor de 560.453,12 COP. También se pueden encontrar en las tiendas virtuales como la Play Store y la App Store aplicaciones como Chk-In Fall y FallDetector que realizan esta tarea.\n",
        "\n",
        "El principal objetivo de este proyecto es desarrollar en Python un modelo capaz de detectar caídas en tiempo real. Para esto se realizó un agente que fue entrenado en diferentes situaciones. A continuación, se hará un reporte sobre el proyecto realizado.\n",
        "Para las lecturas del acelerometro y el gps se uso una aplicación llamada [IMU+GPS Stream](https://play.google.com/store/apps/details?id=de.lorenz_fenster.sensorstreamgps&hl=en) y se probo en un Samsung Galaxy J6"
      ]
    },
    {
      "cell_type": "markdown",
      "metadata": {
        "id": "lG2fnaqPygZa",
        "colab_type": "text"
      },
      "source": [
        "## Metodología\n",
        "\n",
        "El objetivo principal de nuestro proyecto consiste en interpretar los datos provenientes de un sensor (en este caso el acelerómetro de un celular) y establecer si ha ocurrido una caída. Para tal fin, desarrollamos en nuestro código un módulo encargado de recibir \"escuchar\" los datos provenientes del celular tales como los datos de aceleración en los tres ejes (x,y,z) y los datos de latitud y longitud correspondientes. Luego desarrollamos un módulo para la comunicación con el usuario (una interfaz) y finalmente diseñamos un módulo para aprendizaje y reconocimiento\n"
      ]
    },
    {
      "cell_type": "markdown",
      "metadata": {
        "id": "yjQoGl_ezKWP",
        "colab_type": "text"
      },
      "source": [
        "### Módulo de captación de datos y filtrado: "
      ]
    },
    {
      "cell_type": "code",
      "metadata": {
        "id": "5esZT5UHzwnl",
        "colab_type": "code",
        "colab": {}
      },
      "source": [
        "import socket    #for sockets\n",
        "import sys    #for exit\n",
        "import numpy as np\n",
        "import math \n",
        "import os #for files\n",
        "import smtplib #for email\n",
        "from email.mime.text import MIMEText as text\n",
        "import matplotlib.pyplot as plt\n",
        "from mpl_toolkits.mplot3d import Axes3D\n",
        "\n",
        "#global variables\n",
        "samples=[]\n",
        "flag=True\n",
        "standard = 0\n",
        "mean = 0\n",
        "gps=(0,0)\n",
        "counter=0\n",
        "\n",
        "def listenTo(mode):\n",
        "    global counter\n",
        "    global flag\n",
        "    global firstfall\n",
        "    global mean\n",
        "    global standard\n",
        "    global gps\n",
        "    samplecounter=0\n",
        "    host = ''\n",
        "    port = 5555\n",
        "    # create dgram udp socket\n",
        "    try: \n",
        "        s = socket.socket(socket.AF_INET, socket.SOCK_DGRAM)\n",
        "    except socket.error:    \n",
        "        print('Failed to create socket')\n",
        "        sys.exit()\n",
        "    s.bind((host, port))\n",
        "    email = \"automatedfalldt@gmail.com\"\n",
        "    if (mode=='aplication'):\n",
        "        email = input(\"Ingrese su email: \")\n",
        "    \n",
        "    while(flag) :\n",
        "        try:\n",
        "            d = s.recvfrom(5555)\n",
        "            reply = d[0]\n",
        "            stringdata = reply.decode('utf-8')\n",
        "            stringdata=stringdata.split(',')\n",
        "            j = 0\n",
        "            jg = 0 \n",
        "            for i in range (len(stringdata)):\n",
        "                if stringdata[i] == \" 1\":\n",
        "                    jg = i\n",
        "                if stringdata[i] == \" 3\":\n",
        "                    j = i\n",
        "                    i = len(stringdata)\n",
        "                \n",
        "                    \n",
        "            x=float(stringdata[j+1].strip())\n",
        "            y=float(stringdata[j+2].strip())\n",
        "            z=float(stringdata[j+3].strip())\n",
        "            lat=float(stringdata[jg+1].strip())\n",
        "            long=float(stringdata[jg+2].strip())\n",
        "            if(jg!=0):\n",
        "                gps = (lat, long)\n",
        "            ac=(x,y,z)\n",
        "            if (mode=='idle'):\n",
        "                samplecounter=samplecounter+1\n",
        "                idle(ac,samplecounter)\n",
        "            \n",
        "            if (mode=='training'):\n",
        "                if(counter!=0):\n",
        "                    counter=counter+1\n",
        "                if(counter==25):\n",
        "                    counter=0\n",
        "                if (magnitude(ac)>mean+12*standard and counter==0):\n",
        "                    counter=counter+1;\n",
        "                    training(ac);\n",
        "               \n",
        "            if (mode=='aplication'):\n",
        "                if(counter!=0):\n",
        "                    counter=counter+1\n",
        "                if(counter==25):\n",
        "                    counter=0\n",
        "                if (magnitude(ac)>mean+12*standard and counter==0):\n",
        "                    counter=counter+1\n",
        "                    print(\"Dato Atipico\")\n",
        "                    if(nearestpoint(ac)==\"f\"):\n",
        "                        print(\"Falldetektor ha detectado una caída\")\n",
        "                        aplication(email)\n",
        "                #exittag = input(\"Desea Salir, Y o N: \")\n",
        "                #if(exittag==\"Y\" or exittag==\"y\"):\n",
        "                    #sys.exit()\n",
        "                    \n",
        "        except socket.error:        \n",
        "            sys.exit"
      ],
      "execution_count": 0,
      "outputs": []
    },
    {
      "cell_type": "markdown",
      "metadata": {
        "id": "Om_WHCkm0KNs",
        "colab_type": "text"
      },
      "source": [
        "Lo que hacemos en este módulo es comunicarnos con el teléfono por medio del protoculo UDP y recuperar los datos del acelerómetro y el GPS. El teléfono envía los datos como cadenas de Bytes y este código los decodifica y los convierte en Strings para que puedan ser facilmente manipulados. En esta porción de código también implementamos un filtro que ayuda al programa a reconocer los datos atípicos sobre los que se realiza el entrenamiento."
      ]
    },
    {
      "cell_type": "markdown",
      "metadata": {
        "id": "GDGZ4HXZ0rvn",
        "colab_type": "text"
      },
      "source": [
        "#### Filtrado\n",
        "Aún en la frecuencia de actualización más baja encontramos que el programa envía varias muestras por cada segundo. Realizar aprendizaje supervisado sobre tantos datos enviados en tan poco tiempo puede resultar ineficaz. Así que implementamos una estrategia para ignorar los datos promedio y concentrarnos en los datos atípicos. Al fin y al cabo, observamos que las caídas siempre generan datos con valores de aceleración muy elevados, pero no todo lo que causaba valores de aceleración elevados era una caída (el entrenamiento seguía estando justificado). Para establecer un criterio confiable que nos permita reconocer un dato atípico, añadimos la siguiente función:"
      ]
    },
    {
      "cell_type": "code",
      "metadata": {
        "id": "g7xJl8q11QGc",
        "colab_type": "code",
        "colab": {}
      },
      "source": [
        "def idle(ac,samplecounter):\n",
        "    sampleNumber=10000;\n",
        "    global flag\n",
        "    if(samplecounter<sampleNumber):\n",
        "        norm=magnitude(ac)\n",
        "        samples.append(norm)\n",
        "    else:\n",
        "        with open('IdleData.txt', 'w') as f:\n",
        "            for item in samples:       \n",
        "                f.write(\"%s\\n\" % item)\n",
        "        f.close()\n",
        "        \n",
        "        samplesnp=np.array(samples)\n",
        "        sd=np.std(samplesnp)\n",
        "        mean=np.mean(samplesnp)\n",
        "        print(\"sd\",sd,\"mean\",mean)\n",
        "        \n",
        "        flag=False\n",
        "        \n",
        "        with open('stats.txt', 'w') as f:\n",
        "            for item in (sd,mean):        \n",
        "                f.write(\"%s\\n\" % item)\n",
        "        f.close()\n",
        "        \n",
        "\n",
        "def magnitude(ac):\n",
        "    mag=math.sqrt(ac[0]**2+ac[1]**2+ac[2]**2)\n",
        "    mag=round(mag,2)\n",
        "    return mag"
      ],
      "execution_count": 0,
      "outputs": []
    },
    {
      "cell_type": "markdown",
      "metadata": {
        "id": "wZjGbn5EMbXo",
        "colab_type": "text"
      },
      "source": [
        "Básicamente, lo que hacemos aquí es calcular la norma de cada vector de un conjunto de 10.000 vectores. Estas 10.000 muestras son recolectadas mientras el sujeto de prueba se encuentra realizando acciones cotidianas como sentarse, subir y bajar escaleras, correr, caminar o estar quieto. Luego, calculamos la media y la desviación estandar de este conjunto de datos y los visualizamos como se muestra en el siguiente histograma:\n",
        "(Para ver el histograma ejecute la siguiente celda de codigo, el cual toma los datos guardados del muestreo almacenados en el archivo IdleData.txt)\n",
        "\n",
        "#### Histograma\n",
        "Para ver el histograma acceda al siguiente link o ejecute la siguiente celda de codigo.\n",
        "\n",
        "https://drive.google.com/file/d/1uSvaqt17iOy9GGpd4Jzriv0Wa7eFWyvj/view?usp=sharing"
      ]
    },
    {
      "cell_type": "code",
      "metadata": {
        "id": "ToG3qQBiNP5X",
        "colab_type": "code",
        "outputId": "9a444b53-3fe0-48dc-aca2-24943d088ca6",
        "colab": {
          "base_uri": "https://localhost:8080/",
          "height": 236
        }
      },
      "source": [
        "data = []\n",
        "fil = open(\"IdleData.txt\", \"r\")\n",
        "datastatics = fil.readline()\n",
        "while datastatics != \"\":\n",
        "    data.append(float(datastatics.split(\"\\n\")[0]))\n",
        "    datastatics = fil.readline()\n",
        "\n",
        "plt.hist(data, bins = 10)"
      ],
      "execution_count": 3,
      "outputs": [
        {
          "output_type": "error",
          "ename": "FileNotFoundError",
          "evalue": "ignored",
          "traceback": [
            "\u001b[0;31m---------------------------------------------------------------------------\u001b[0m",
            "\u001b[0;31mFileNotFoundError\u001b[0m                         Traceback (most recent call last)",
            "\u001b[0;32m<ipython-input-3-76c551cca13f>\u001b[0m in \u001b[0;36m<module>\u001b[0;34m()\u001b[0m\n\u001b[1;32m      1\u001b[0m \u001b[0mdata\u001b[0m \u001b[0;34m=\u001b[0m \u001b[0;34m[\u001b[0m\u001b[0;34m]\u001b[0m\u001b[0;34m\u001b[0m\u001b[0;34m\u001b[0m\u001b[0m\n\u001b[0;32m----> 2\u001b[0;31m \u001b[0mfil\u001b[0m \u001b[0;34m=\u001b[0m \u001b[0mopen\u001b[0m\u001b[0;34m(\u001b[0m\u001b[0;34m\"IdleData.txt\"\u001b[0m\u001b[0;34m,\u001b[0m \u001b[0;34m\"r\"\u001b[0m\u001b[0;34m)\u001b[0m\u001b[0;34m\u001b[0m\u001b[0;34m\u001b[0m\u001b[0m\n\u001b[0m\u001b[1;32m      3\u001b[0m \u001b[0mdatastatics\u001b[0m \u001b[0;34m=\u001b[0m \u001b[0mfil\u001b[0m\u001b[0;34m.\u001b[0m\u001b[0mreadline\u001b[0m\u001b[0;34m(\u001b[0m\u001b[0;34m)\u001b[0m\u001b[0;34m\u001b[0m\u001b[0;34m\u001b[0m\u001b[0m\n\u001b[1;32m      4\u001b[0m \u001b[0;32mwhile\u001b[0m \u001b[0mdatastatics\u001b[0m \u001b[0;34m!=\u001b[0m \u001b[0;34m\"\"\u001b[0m\u001b[0;34m:\u001b[0m\u001b[0;34m\u001b[0m\u001b[0;34m\u001b[0m\u001b[0m\n\u001b[1;32m      5\u001b[0m     \u001b[0mdata\u001b[0m\u001b[0;34m.\u001b[0m\u001b[0mappend\u001b[0m\u001b[0;34m(\u001b[0m\u001b[0mfloat\u001b[0m\u001b[0;34m(\u001b[0m\u001b[0mdatastatics\u001b[0m\u001b[0;34m.\u001b[0m\u001b[0msplit\u001b[0m\u001b[0;34m(\u001b[0m\u001b[0;34m\"\\n\"\u001b[0m\u001b[0;34m)\u001b[0m\u001b[0;34m[\u001b[0m\u001b[0;36m0\u001b[0m\u001b[0;34m]\u001b[0m\u001b[0;34m)\u001b[0m\u001b[0;34m)\u001b[0m\u001b[0;34m\u001b[0m\u001b[0;34m\u001b[0m\u001b[0m\n",
            "\u001b[0;31mFileNotFoundError\u001b[0m: [Errno 2] No such file or directory: 'IdleData.txt'"
          ]
        }
      ]
    },
    {
      "cell_type": "markdown",
      "metadata": {
        "id": "jYfadPiN1caN",
        "colab_type": "text"
      },
      "source": [
        "El histograma nos confirma algo que muchas veces es una sospecha: los datos están distribuidos normalmente. Esto nos permite reconocer datos atípicos valiéndonos sólo de la media y la desviación estándar obtenidas previamente. En nuestro caso, tras realizar algunas pruebas de campo definimos la siguiente relación para detectar un dato atípico:\n",
        "\n",
        "![texto alternativo](https://latex.codecogs.com/gif.latex?%5Ctext%7BSi%20%7D%20%5Cleft%20%5C%7C%5Cleft%20%28%20x%2Cy%2Cz%20%5Cright%20%29%20%5Cright%20%5C%7C%3E%20%5Cmu%20&plus;%2012%5Csigma%20%5Ctext%7B%20entonces%20%7D%20%5Cleft%20%28%20x%2Cy%2Cz%20%5Cright%20%29%20%5Ctext%7B%20es%20un%20dato%20atipico.%20%7D%20%5Ctext%7BDonde%20%7D%5Cmu%20%5Ctext%7B%20es%20la%20media%20muestral%20y%20%7D%20%5Csigma%20%5Ctext%7B%20la%20desviacion%20estandar%7D)\n",
        "\n",
        "Así filtramos los datos y podemos seleccionar sólo más relevantes para  el entrenamiento.\n"
      ]
    },
    {
      "cell_type": "markdown",
      "metadata": {
        "id": "ZT8AijF_2h4U",
        "colab_type": "text"
      },
      "source": [
        "### Módulo de entrenamiento y clasificación:\n",
        "\n",
        "Con una definición concreta de qué es un dato atípico para nuestra aplicación. Procedemos a dar una breve descripción de cómo entrenamos nuestro modelo y como funciona el sistema de reconocimiento de caídas. "
      ]
    },
    {
      "cell_type": "markdown",
      "metadata": {
        "id": "2kkM8OLz4MKx",
        "colab_type": "text"
      },
      "source": [
        "#### Entrenamiento\n",
        "\n"
      ]
    },
    {
      "cell_type": "code",
      "metadata": {
        "id": "5hjU08Cm4UUX",
        "colab_type": "code",
        "colab": {}
      },
      "source": [
        "def training (ac):\n",
        "    global flag\n",
        "    print(\"SE HA DETECTADO UN DATO INUSUAL!\");\n",
        "    if(os.stat(\"trainingdata.txt\").st_size == 0):\n",
        "        tag=input(\"POR FAVOR INDIQUE SI SE HA TRATADO DE UNA CAÍDA Y o N: \")\n",
        "        mftag = \"n\"\n",
        "        if(tag==\"y\" or tag==\"Y\"):\n",
        "            mftag = \"f\"\n",
        "        t=str(ac[0])+\",\"+str(ac[1])+\",\"+str(ac[2])+\",\"+mftag\n",
        "        with open(\"trainingdata.txt\", \"a\") as myfile:\n",
        "            myfile.write(\"%s\\n\" % t)\n",
        "    else:\n",
        "        nearfall = nearestpoint(ac)\n",
        "        if(nearfall==\"f\"):\n",
        "            tag = input(\"EL PROGRAMA DETECTA QUE ES UNA CAIDA. VERIFIQUE T o F: \")\n",
        "            if(tag==\"F\" or tag==\"f\"):\n",
        "                nearfall = \"n\"\n",
        "        else:\n",
        "            tag = input(\"EL PROGRAMA DETECTA QUE NO ES UNA CAIDA. VERIFIQUE T o F: \")\n",
        "            if(tag==\"F\" or tag==\"f\"):\n",
        "                nearfall = \"f\"\n",
        "        t=str(ac[0])+\",\"+str(ac[1])+\",\"+str(ac[2])+\",\"+nearfall\n",
        "        with open(\"trainingdata.txt\", \"a\") as myfile:\n",
        "            myfile.write(\"%s\\n\" % t)\n",
        "        ftag = input(\"DESEA SEGUIR ENTRENANDO, Y o N: \")\n",
        "        if(ftag==\"N\" or ftag==\"n\"):\n",
        "            flag = False \n",
        "             "
      ],
      "execution_count": 0,
      "outputs": []
    },
    {
      "cell_type": "markdown",
      "metadata": {
        "id": "CZtkEOCF4ZaQ",
        "colab_type": "text"
      },
      "source": [
        "La función de entrenamiento es bastante sencilla, cada vez que detectamos un vector de aceleración con una norma elevada (según los criterios definidos en el módulo anterior) lo enviamos como paramétro a la función de entrenamiento. Como estamos hablando de aprendizaje supervisado, lo que hace la función es preguntar al usuario si el vector recibido corresponde a una caída o no. Y de acuerdo con la respuesta le asociamos una etiqueta (identificador) al vector en cuestión. Hacemos esto por cada dato que recibamos en tiempo real, además de guardar los valores (x,y,z,tag) en un archivo que será nuesto trainingSet. \n",
        "\n",
        "Además, para entrenar el modelo el sujeto de prueba realizo acciones como sentarse, incorporarse, correr, arrojar el teléfono, subir escaleras, bajar escaleras, sacar el telefono del bolsillo y volver a introducirlo, y caer al suelo. Todo con el ánimo de tener un dataSet lo más completo posible."
      ]
    },
    {
      "cell_type": "markdown",
      "metadata": {
        "id": "mwX360Ik6YLR",
        "colab_type": "text"
      },
      "source": [
        "#### Clasificación"
      ]
    },
    {
      "cell_type": "code",
      "metadata": {
        "id": "7GQNiWvv6gAl",
        "colab_type": "code",
        "colab": {}
      },
      "source": [
        "def nearestpoint(ac):\n",
        "    f = open(\"trainingdata.txt\", \"r\")\n",
        "    st = f.readline()\n",
        "    minimun = float(\"inf\")\n",
        "    falltag = \"f\"\n",
        "    while (st!=\"\" and st!=\"\\n\"):\n",
        "        st = st.split(\",\")\n",
        "        distance = math.sqrt((ac[0]-float(st[0]))**2 + (ac[1]-float(st[1]))**2 + (ac[2]-float(st[2]))**2)\n",
        "        if(distance < minimun):\n",
        "            minimun = distance\n",
        "            fta = st[3].split(\"\\n\")[0]\n",
        "            falltag = fta\n",
        "        st = f.readline()\n",
        "    return falltag"
      ],
      "execution_count": 0,
      "outputs": []
    },
    {
      "cell_type": "markdown",
      "metadata": {
        "id": "ezaApqIq6lF9",
        "colab_type": "text"
      },
      "source": [
        "La función de clasificación es una simplificación del algoritmo K-Nearest Neighbor. De hecho, es un caso particular del mismo con K=1.\n",
        "\n",
        "![texto alternativo](https://en.proft.me/media/science/r_knn_classify.png)\n",
        "\n",
        "Lo que hace la función de clasificación es que dado un vector de aceleración atípico (con norma muy distinta a la media) busca el vector más cercano entre todos los que están almacenados en nuestro trainigSet. Cuando lo encuentre,  busca la etiqueta asociada a ese vector y con base en eso reconoce si el dato ingresado corresponde a una caída o no. \n",
        "\n",
        "Como sólo se está realizando clasificación entre dos categorías (caída/no caída) es de esperarse que el algoritmo sea eficaz. Además, luego de cada intento de clasificación le estamos dando retroalimentación al sistema, para confirmar si su respuesta corresponde con la realidad. Esto es útil porque nos ayuda a aumentar la base de datos del entrenamiento.\n"
      ]
    },
    {
      "cell_type": "markdown",
      "metadata": {
        "id": "BUA0xwTiDGNO",
        "colab_type": "text"
      },
      "source": [
        "### Aplicación:\n"
      ]
    },
    {
      "cell_type": "code",
      "metadata": {
        "id": "-K04GEVvD9Wg",
        "colab_type": "code",
        "colab": {}
      },
      "source": [
        "def aplication(email):\n",
        "    global gps\n",
        "    global flag\n",
        "    m = text(\"FallDetektor 2.0 ha detectado una caida. \\nAproximadamente en: http://google.com/maps/place/\"+str(gps[0])+\",\"+str(gps[1])+\n",
        "             \"\\n \\nAtentamente, \\nFallDetektor 2.0 Team\")\n",
        "    m['Subject'] = 'Se ha detectado una caída!'\n",
        "    mail = smtplib.SMTP('smtp.gmail.com',587)\n",
        "    mail.ehlo()\n",
        "    mail.starttls()\n",
        "    mail.login('automatedfalldt@gmail.com',\"Spiderman123\")\n",
        "    mail.sendmail('automatedfalldt@gmail.com',email,m.as_string())\n",
        "    mail.close()\n",
        "    print(\"El email se ha enviado corrrectamente\")\n",
        "    exittag = input(\"Desea Salir, Y o N: \")\n",
        "    if(exittag==\"Y\" or exittag==\"y\"):\n",
        "        flag = False\n",
        "    "
      ],
      "execution_count": 0,
      "outputs": []
    },
    {
      "cell_type": "markdown",
      "metadata": {
        "id": "OjfYHa2KD_6Q",
        "colab_type": "text"
      },
      "source": [
        "El código de la aplicación nos sirve para cumplir con los requisitos operacionales del proyecto. Este sencillo código envía una alerta de caída al e-mail que ha especificado el usuario. En la alerta encontraremos las coordenadas en donde se ha producido la caída, además de un link de Google Maps que nos muestra donde están estas coordenadas con imagenes satelitales y mapas.\n",
        "\n",
        "### Descripción de los Archivos\n",
        "\n",
        "* IdleData.txt: En este archivo se almacenan todas las magnitudes de los vectores del muestreo.\n",
        "* stats.txt: En este archivo se almacena la media y la varianza del muestreo.\n",
        "* trainingdata.txt: En este archivo se almacenan todos los datos del entrenamiento.\n",
        "\n",
        "## Resultados y Evaluación\n",
        "\n",
        "Una vez el modelo fue entrenado se obtuvieron los siguientes datos se tomaron 66 muestras de las cuales 49 son caidas y 17 son no caidas. Como se puede ver en el siguiente gráfico.\n",
        "\n",
        "Para ver el grafico acceda al siguiente link o ejecute la siguiente celda de codigo.\n",
        "\n",
        "https://drive.google.com/file/d/1mSC6L8jdpeKayI9yZg-ABpBOrIxuYeat/view?usp=sharing"
      ]
    },
    {
      "cell_type": "code",
      "metadata": {
        "id": "g3u3vp4t4Gqv",
        "colab_type": "code",
        "colab": {}
      },
      "source": [
        "data = [0,0]\n",
        "f = open(\"trainingdata.txt\", \"r\")\n",
        "stats = f.readline()\n",
        "total = 0\n",
        "while stats != \"\":\n",
        "    total+=1\n",
        "    if stats.split(\",\")[3].split(\"\\n\")[0]!=\"f\":\n",
        "        data[1]+=1;\n",
        "    else:\n",
        "        data[0]+=1;\n",
        "    stats = f.readline()\n",
        "\n",
        "print(\"Numero total de muestras: \", total)\n",
        "print(\"Numero total de caidas: \",data[0])\n",
        "print(\"Numero totla de no caidas: \",data[1])\n",
        "\n",
        "\n",
        "plt.bar([\"Caida\",\"No caida\"], data)"
      ],
      "execution_count": 0,
      "outputs": []
    },
    {
      "cell_type": "markdown",
      "metadata": {
        "id": "b5FA0RBj4RGn",
        "colab_type": "text"
      },
      "source": [
        "Podemos ver la distribución de los puntos en un plano tridimencional (Los puntos azules hacen referencias a caídas y los puntos rojos a no caidas).\n",
        "\n",
        "Para ver el gráfico acceda al siguiente link o ejecute la siguiente celda de código.\n",
        "https://drive.google.com/file/d/1TVhSs-9XOP3nuZ-RfbwK3WnhFXheZ4LO/view?usp=sharing\n"
      ]
    },
    {
      "cell_type": "code",
      "metadata": {
        "id": "7bc1-MmR9YLV",
        "colab_type": "code",
        "colab": {}
      },
      "source": [
        "f = open(\"trainingdata.txt\", \"r\")\n",
        "stats = f.readline()\n",
        "fig = plt.figure()\n",
        "ax = fig.add_subplot(111, projection='3d')\n",
        "while stats != \"\":\n",
        "    p = stats.split(\",\")\n",
        "    if p[3].split(\"\\n\")[0]!=\"f\":\n",
        "        ax.scatter(float(p[0]), float(p[1]), float(p[2]), marker=\"o\",color=\"red\")\n",
        "    else:\n",
        "        ax.scatter(float(p[0]), float(p[1]), float(p[2]), marker=\"s\",color=\"blue\")\n",
        "    stats = f.readline()\n",
        "    \n",
        "ax.set_xlabel('X Label')\n",
        "ax.set_ylabel('Y Label')\n",
        "ax.set_zlabel('Z Label')"
      ],
      "execution_count": 0,
      "outputs": []
    },
    {
      "cell_type": "markdown",
      "metadata": {
        "id": "WcXervfFvBi7",
        "colab_type": "text"
      },
      "source": [
        "Para poder evaluar el funcionamiento de este modelo se realizaron diversas pruebas que incluian las siguientes acciones:\n",
        "\n",
        "* **Subir Escaleras**\n",
        "https://drive.google.com/file/d/1JTZxJnC3Dj5-iyfLLSxHxrptU_G9tVYp/view?usp=sharing\n",
        "https://drive.google.com/file/d/1uZiMWgsTEJoAhPudZNmxQNBCAkI3AEOE/view?usp=sharing\n",
        "\n",
        "* **Bajar Escaleras** https://drive.google.com/file/d/1wIsjrcYTXCeARpOh8Ocqgi9SME7vdqOv/view?usp=sharing\n",
        "\n",
        "* **Caminar**\n",
        "https://drive.google.com/file/d/1jC_46A22GuhfBqeCyU5PGrLuFs_kxI_P/view?usp=sharing\n",
        "\n",
        "* **Sentarse**\n",
        "https://drive.google.com/file/d/1cD5sQ-RV3Hp55zAgtc_cQYki8dQ-tIbo/view?usp=sharing\n",
        "\n",
        "* **Pararse**\n",
        "https://drive.google.com/file/d/1r4dSnz4okml1nrSJjCPrsAA9BNTM6nKE/view?usp=sharing\n",
        "\n",
        "## Resultados\n",
        "\n",
        "Se realizaron 40 pruebas de las cuales 20 simulaban caidas y 20 simulaban no caidas, y se llegarón a los siguientes resultados:\n",
        "* De las 20 caídas realizadas, 19 fueron categorizadas por el modelo como caída.\n",
        "* De las 20 no caídas realizas, 15 fueron categorizadas por el modelo como no caída.\n",
        "* En condiciones perfectas de categorizacion se esperaban 20 caidas registradas (Se registraron 24) y 20 no caídas (Se registraron 16).\n",
        "\n",
        "## Modulo de Interacción Usuario\n",
        "\n",
        "Por ultimo en la funcion menu(), podemos acceder a todas las funcionalidades que tiene el programa."
      ]
    },
    {
      "cell_type": "code",
      "metadata": {
        "id": "SJ3P17JlOMRP",
        "colab_type": "code",
        "colab": {}
      },
      "source": [
        "def menu():\n",
        "    global standard\n",
        "    global mean\n",
        "    if(os.stat(\"stats.txt\").st_size != 0):\n",
        "        stats = open(\"stats.txt\", \"r\")\n",
        "        standard = float(stats.readline().split(\"\\n\")[0])\n",
        "        mean = float(stats.readline().split(\"\\n\")[0])\n",
        "    print(\"************MAIN MENU************** \\n\")\n",
        "    \n",
        "    print (\"Welcome to your silly fall-detection solution.\\n \")\n",
        "\n",
        "    choice = input(\"\"\"\n",
        "                      1: Record idle data\n",
        "                      2: Training\n",
        "                      3: Aplication\n",
        "                      4: Exit\n",
        "\n",
        "                      Please enter your choice: \"\"\")\n",
        "\n",
        "    if (choice == \"1\") :\n",
        "        listenTo(\"idle\")\n",
        "    elif (choice == \"2\"):\n",
        "        listenTo(\"training\")\n",
        "    elif (choice == \"3\"):\n",
        "        listenTo(\"aplication\")\n",
        "    elif (choice == \"4\"):\n",
        "        sys.exit\n",
        "    else:\n",
        "        print(\"You must only select either 1,2,3 or 4.\")\n",
        "        print(\"Please try again\")\n",
        "        menu()\n"
      ],
      "execution_count": 0,
      "outputs": []
    },
    {
      "cell_type": "markdown",
      "metadata": {
        "id": "0c7_lqo9Q_uG",
        "colab_type": "text"
      },
      "source": [
        "## Ejecucion\n",
        "Para ejecutar el programa, es necesario correr la siguiente celda de codigo"
      ]
    },
    {
      "cell_type": "code",
      "metadata": {
        "id": "xQB8pxy8OX2w",
        "colab_type": "code",
        "colab": {}
      },
      "source": [
        "menu()"
      ],
      "execution_count": 0,
      "outputs": []
    },
    {
      "cell_type": "markdown",
      "metadata": {
        "id": "v1Ouxm8YQEc2",
        "colab_type": "text"
      },
      "source": [
        "## Conclusiones"
      ]
    },
    {
      "cell_type": "markdown",
      "metadata": {
        "id": "4osr0TiaGjRV",
        "colab_type": "text"
      },
      "source": [
        "* Realizando un análisis cuantitativo de la efectividad del sistema de clasificación encontramos que se obtuvieron 34 aciertos de 40 ensayos en total (34 verdaderos positivos o verdaderos negativos). Esto nos dice que el sistema acierta en su predicción el 85% de las veces.\n",
        "\n",
        "* En cuánto a P(\"Detectó una caída\"|\"Hubo una caída\") encontramos que es igual a 0.95. Dado que para este contexto ignorar una caída es más  grave que anunciar una falsa caída esta probabilidad condicionada dice que nuestro sistema de clasificación es un 95% efectivo detectando verdaderas caídas.\n",
        "\n",
        "* Analizando los resultados cuantitativos encontramos que lo que reduce significativamente la efectividad total del sistema son los falsos positivos. Para contrarrestar esto, podríamos utilizar datos de otros sensores del teléfono (como el giroscopio) y construir otro archivo de ejemplos de entrenamiento con más criterios de clasificación.\n",
        "\n",
        "* Teniendo en cuenta que en este sistema de clasificación se utilizó un algoritmo básico como el nearest-neighbor. Nuestra probabilidad P(\"Detectó una caída\"|\"Hubo una caída\")=0.95 dice que nuestro programa cumple satisfactoriamente los requisitos del proyecto\n",
        "\n"
      ]
    }
  ]
}