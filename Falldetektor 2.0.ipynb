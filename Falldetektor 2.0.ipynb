{
 "cells": [
  {
   "cell_type": "markdown",
   "metadata": {
    "colab_type": "text",
    "id": "tj7FiAVed6kk"
   },
   "source": [
    "# FALLDETEKTOR 2.0\n",
    "---\n",
    "### *Introducción a la Inteligencia Artificial*\n",
    "### *Septiembre de 2019*\n",
    "## Integrantes\n",
    "\n",
    "* Daniel Amaris (ddamarisr@unal.edu.co) - Ciencias de la Computacion\n",
    "* Christian Ortiz (cfortizp@unal.edu.co) - Ingenieria de Sistemas\n"
   ]
  },
  {
   "cell_type": "markdown",
   "metadata": {
    "colab_type": "text",
    "id": "KQxcaPwlmQMe"
   },
   "source": [
    "## Descripción\n",
    "\n",
    "Uno de los problemas más comunes que tienen los adultos mayores y sus familiares son las caídas. Este problema ha conducido a los adultos mayores a lesiones, discapacidades e incluso la muerte.\n",
    "\n",
    "Uno de los problemas más graves de las caídas es que la gran mayoría de ellas no son reportadas, se estima que el 80% de las caídas se producen en el hogar y el 20% restante fuera del él, también se sabe que un quinto de los adultos mayores de entre 65 a 69 años, y hasta dos quintos de los mayores de 80, sufren una caída en el último año.\n",
    "\n",
    "Así mismo existen las principales causas de caídas en el adulto mayor, son de tipo fisiológico, propias del envejecimiento, como la pérdida de masa muscular, disminución de la percepción de sensibilidad profunda, reducción de rango articular, problemas de visión. También se deben a problemas de tipo patológico, enfermedades como el Parkinson, alteraciones de la visión, secuelas de un accidente vascular cerebral y demencia.\n",
    "\n",
    "Actualmente existen diversos mecanismos para detectar las caídas, dispositivos electrónicos como el Angel4, Elea y Nursecall, pueden llegar a costar 149,95€ alrededor de 560.453,12 COP. También se pueden encontrar en las tiendas virtuales como la Play Store y la App Store aplicaciones como Chk-In Fall y FallDetector que realizan esta tarea.\n",
    "\n",
    "El principal objetivo de este proyecto es desarrollar en Python un dispositivo capaz de detectar caídas en tiempo real. Para esto se realizó un agente que fue entrenado en diferentes situaciones. A continuación, se hará un reporte sobre el proyecto realizado."
   ]
  },
  {
   "cell_type": "markdown",
   "metadata": {
    "colab_type": "text",
    "id": "lG2fnaqPygZa"
   },
   "source": [
    "## Metodología\n",
    "\n",
    "El objetivo principal de nuestro proyecto consiste en interpretar los datos provenientes de un sensor (en este caso el acelerómetro de un celular) y establecer si ha ocurrido una caída. Para tal fin, desarrollamos en nuestro código un módulo encargado de recibir \"escuchar\" los datos provenientes del celular tales como los datos de aceleración en los tres ejes (x,y,z) y los datos de latitud y longitud correspondientes. Luego desarrollamos un módulo para la comunicación con el usuario (una interfaz) y finalmente diseñamos un módulo para aprendizaje y reconocimiento\n"
   ]
  },
  {
   "cell_type": "markdown",
   "metadata": {
    "colab_type": "text",
    "id": "yjQoGl_ezKWP"
   },
   "source": [
    "### Módulo de captación de datos y filtrado: "
   ]
  },
  {
   "cell_type": "code",
   "execution_count": 1,
   "metadata": {
    "colab": {},
    "colab_type": "code",
    "id": "5esZT5UHzwnl"
   },
   "outputs": [],
   "source": [
    "import socket    #for sockets\n",
    "import sys    #for exit\n",
    "import numpy as np\n",
    "import math \n",
    "import os #for files\n",
    "import smtplib #for email\n",
    "from email.mime.text import MIMEText as text\n",
    "import matplotlib.pyplot as plt\n",
    "\n",
    "#global variables\n",
    "samples=[]\n",
    "flag=True\n",
    "standard = 0\n",
    "mean = 0\n",
    "gps=(0,0)\n",
    "counter=0\n",
    "\n",
    "def listenTo(mode):\n",
    "    global counter\n",
    "    global flag\n",
    "    global firstfall\n",
    "    global mean\n",
    "    global standard\n",
    "    global gps\n",
    "    samplecounter=0\n",
    "    host = ''\n",
    "    port = 5555\n",
    "    # create dgram udp socket\n",
    "    try: \n",
    "        s = socket.socket(socket.AF_INET, socket.SOCK_DGRAM)\n",
    "    except socket.error:    \n",
    "        print('Failed to create socket')\n",
    "        sys.exit()\n",
    "    s.bind((host, port))\n",
    "    email = \"automatedfalldt@gmail.com\"\n",
    "    if (mode=='aplication'):\n",
    "        email = input(\"Ingrese su email: \")\n",
    "    \n",
    "    while(flag) :\n",
    "        try:\n",
    "            d = s.recvfrom(5555)\n",
    "            reply = d[0]\n",
    "            stringdata = reply.decode('utf-8')\n",
    "            stringdata=stringdata.split(',')\n",
    "            j = 0\n",
    "            jg = 0 \n",
    "            for i in range (len(stringdata)):\n",
    "                if stringdata[i] == \" 1\":\n",
    "                    jg = i\n",
    "                if stringdata[i] == \" 3\":\n",
    "                    j = i\n",
    "                    i = len(stringdata)\n",
    "                \n",
    "                    \n",
    "            x=float(stringdata[j+1].strip())\n",
    "            y=float(stringdata[j+2].strip())\n",
    "            z=float(stringdata[j+3].strip())\n",
    "            lat=float(stringdata[jg+1].strip())\n",
    "            long=float(stringdata[jg+2].strip())\n",
    "            if(jg!=0):\n",
    "                gps = (lat, long)\n",
    "                print(\"Se ha detectado una señal de GPS\")\n",
    "            ac=(x,y,z)\n",
    "            if (mode=='idle'):\n",
    "                samplecounter=samplecounter+1\n",
    "                idle(ac,samplecounter)\n",
    "            \n",
    "            if (mode=='training'):\n",
    "                if(counter!=0):\n",
    "                    counter=counter+1\n",
    "                if(counter==25):\n",
    "                    counter=0\n",
    "                if (magnitude(ac)>mean+12*standard and counter==0):\n",
    "                    counter=counter+1;\n",
    "                    training(ac);\n",
    "               \n",
    "            if (mode=='aplication'):\n",
    "                if(counter!=0):\n",
    "                    counter=counter+1\n",
    "                if(counter==25):\n",
    "                    counter=0\n",
    "                if (magnitude(ac)>mean+12*standard and counter==0):\n",
    "                    counter=counter+1\n",
    "                    print(\"Dato Atipico\")\n",
    "                    if(nearestpoint(ac)==\"f\"):\n",
    "                        print(\"Falldetektor ha detectado una caída\")\n",
    "                        aplication(email)\n",
    "                #exittag = input(\"Desea Salir, Y o N: \")\n",
    "                #if(exittag==\"Y\" or exittag==\"y\"):\n",
    "                    #sys.exit()\n",
    "                    \n",
    "        except socket.error:        \n",
    "            sys.exit"
   ]
  },
  {
   "cell_type": "markdown",
   "metadata": {
    "colab_type": "text",
    "id": "Om_WHCkm0KNs"
   },
   "source": [
    "Lo que hacemos en este módulo es comunicarnos con el teléfono por medio del protoculo UDP y recuperar los datos del acelerómetro y el GPS. El teléfono envía los datos como cadenas de Bytes y este código los decodifica y los convierte en Strings para que puedan ser facilmente manipulados. En esta porción de código también implementamos un filtro que ayuda al programa a reconocer los datos atípicos sobre los que se realiza el entrenamiento."
   ]
  },
  {
   "cell_type": "markdown",
   "metadata": {
    "colab_type": "text",
    "id": "GDGZ4HXZ0rvn"
   },
   "source": [
    "#### Filtrado\n",
    "Aún en la frecuencia de actualización más baja encontramos que el programa envía varias muestras por cada segundo. Realizar aprendizaje supervisado sobre tantos datos enviados en tan poco tiempo puede resultar ineficaz. Así que implementamos una estrategia para ignorar los datos promedio y concentrarnos en los datos atípicos. Al fin y al cabo, observamos que las caídas siempre generan datos con valores de aceleración muy elevados, pero no todo lo que causaba valores de aceleración elevados era una caída (el entrenamiento seguía estando justificado). Para establecer un criterio confiable que nos permita reconocer un dato atípico, añadimos la siguiente función:"
   ]
  },
  {
   "cell_type": "code",
   "execution_count": 2,
   "metadata": {
    "colab": {},
    "colab_type": "code",
    "id": "g7xJl8q11QGc"
   },
   "outputs": [],
   "source": [
    "def idle(ac,samplecounter):\n",
    "    sampleNumber=10000;\n",
    "    global flag\n",
    "    if(samplecounter<sampleNumber):\n",
    "        norm=magnitude(ac)\n",
    "        samples.append(norm)\n",
    "    else:\n",
    "        with open('IdleData.txt', 'w') as f:\n",
    "            for item in samples:       \n",
    "                f.write(\"%s\\n\" % item)\n",
    "        f.close()\n",
    "        \n",
    "        samplesnp=np.array(samples)\n",
    "        sd=np.std(samplesnp)\n",
    "        mean=np.mean(samplesnp)\n",
    "        print(\"sd\",sd,\"mean\",mean)\n",
    "        \n",
    "        flag=False\n",
    "        \n",
    "        with open('stats.txt', 'w') as f:\n",
    "            for item in (sd,mean):        \n",
    "                f.write(\"%s\\n\" % item)\n",
    "        f.close()\n",
    "        \n",
    "\n",
    "def magnitude(ac):\n",
    "    mag=math.sqrt(ac[0]**2+ac[1]**2+ac[2]**2)\n",
    "    mag=round(mag,2)\n",
    "    return mag"
   ]
  },
  {
   "cell_type": "markdown",
   "metadata": {
    "colab_type": "text",
    "id": "wZjGbn5EMbXo"
   },
   "source": [
    "Básicamente, lo que hacemos aquí es calcular la norma de cada vector de un conjunto de 10.000 vectores. Estas 10.000 muestras son recolectadas mientras el sujeto de prueba se encuentra realizando acciones cotidianas como sentarse, subir y bajar escaleras, correr, caminar o estar quieto. Luego, calculamos la media y la desviación estandar de este conjunto de datos y los visualizamos como se muestra en el siguiente histograma:\n",
    "(Para ver el histograma ejecute la siguiente celda de codigo, el cual toma los datos guardados del muestreo almacenados en el archivo IdleData.txt)\n",
    "\n",
    "#### Histograma\n",
    "https://drive.google.com/file/d/1uSvaqt17iOy9GGpd4Jzriv0Wa7eFWyvj/view?usp=sharing"
   ]
  },
  {
   "cell_type": "code",
   "execution_count": 3,
   "metadata": {
    "colab": {},
    "colab_type": "code",
    "id": "ToG3qQBiNP5X"
   },
   "outputs": [
    {
     "data": {
      "text/plain": [
       "(array([2.800e+01, 1.490e+02, 1.047e+03, 6.099e+03, 2.084e+03, 4.260e+02,\n",
       "        1.320e+02, 2.200e+01, 1.000e+01, 2.000e+00]),\n",
       " array([ 1.36,  3.66,  5.96,  8.26, 10.56, 12.86, 15.16, 17.46, 19.76,\n",
       "        22.06, 24.36]),\n",
       " <a list of 10 Patch objects>)"
      ]
     },
     "execution_count": 3,
     "metadata": {},
     "output_type": "execute_result"
    },
    {
     "data": {
      "image/png": "[encoded data removed]",
      "text/plain": [
       "<Figure size 432x288 with 1 Axes>"
      ]
     },
     "metadata": {
      "needs_background": "light"
     },
     "output_type": "display_data"
    }
   ],
   "source": [
    "data = []\n",
    "fil = open(\"IdleData.txt\", \"r\")\n",
    "datastatics = fil.readline()\n",
    "while datastatics != \"\":\n",
    "  data.append(float(datastatics.split(\"\\n\")[0]))\n",
    "  datastatics = fil.readline()\n",
    "\n",
    "plt.hist(data, bins = 10)"
   ]
  },
  {
   "cell_type": "markdown",
   "metadata": {
    "colab_type": "text",
    "id": "jYfadPiN1caN"
   },
   "source": [
    "El histograma nos confirma algo que muchas veces es una sospecha: los datos están distribuidos normalmente. Esto nos permite reconocer datos atípicos valiéndonos sólo de la media y la desviación estándar obtenidas previamente. En nuestro caso, tras realizar algunas pruebas de campo definimos la siguiente relación para detectar un dato atípico:\n",
    "\n",
    "![texto alternativo](https://latex.codecogs.com/gif.latex?%5Ctext%7BSi%20%7D%20%5Cleft%20%5C%7C%5Cleft%20%28%20x%2Cy%2Cz%20%5Cright%20%29%20%5Cright%20%5C%7C%3E%20%5Cmu%20&plus;%2012%5Csigma%20%5Ctext%7B%20entonces%20%7D%20%5Cleft%20%28%20x%2Cy%2Cz%20%5Cright%20%29%20%5Ctext%7B%20es%20un%20dato%20atipico.%20%7D%20%5Ctext%7BDonde%20%7D%5Cmu%20%5Ctext%7B%20es%20la%20media%20muestral%20y%20%7D%20%5Csigma%20%5Ctext%7B%20la%20desviacion%20estandar%7D)\n",
    "\n",
    "Así filtramos los datos y podemos seleccionar sólo más relevantes para  el entrenamiento.\n"
   ]
  },
  {
   "cell_type": "markdown",
   "metadata": {
    "colab_type": "text",
    "id": "ZT8AijF_2h4U"
   },
   "source": [
    "### Módulo de entrenamiento y clasificación:\n",
    "\n",
    "Con una definición concreta de qué es un dato atípico para nuestra aplicación. Procedemos a dar una breve descripción de cómo entrenamos nuestro modelo y como funciona el sistema de reconocimiento de caídas. "
   ]
  },
  {
   "cell_type": "markdown",
   "metadata": {
    "colab_type": "text",
    "id": "2kkM8OLz4MKx"
   },
   "source": [
    "#### Entrenamiento\n",
    "\n"
   ]
  },
  {
   "cell_type": "code",
   "execution_count": 4,
   "metadata": {
    "colab": {},
    "colab_type": "code",
    "id": "5hjU08Cm4UUX"
   },
   "outputs": [],
   "source": [
    "def training (ac):\n",
    "    global flag\n",
    "    print(\"SE HA DETECTADO UN DATO INUSUAL!\");\n",
    "    if(os.stat(\"trainingdata.txt\").st_size == 0):\n",
    "        tag=input(\"POR FAVOR INDIQUE SI SE HA TRATADO DE UNA CAÍDA Y o N: \")\n",
    "        mftag = \"n\"\n",
    "        if(tag==\"y\" or tag==\"Y\"):\n",
    "            mftag = \"f\"\n",
    "        t=str(ac[0])+\",\"+str(ac[1])+\",\"+str(ac[2])+\",\"+mftag\n",
    "        with open(\"trainingdata.txt\", \"a\") as myfile:\n",
    "            myfile.write(\"%s\\n\" % t)\n",
    "    else:\n",
    "        nearfall = nearestpoint(ac)\n",
    "        if(nearfall==\"f\"):\n",
    "            tag = input(\"EL PROGRAMA DETECTA QUE ES UNA CAIDA. VERIFIQUE T o F: \")\n",
    "            if(tag==\"F\" or tag==\"f\"):\n",
    "                nearfall = \"n\"\n",
    "        else:\n",
    "            tag = input(\"EL PROGRAMA DETECTA QUE NO ES UNA CAIDA. VERIFIQUE T o F: \")\n",
    "            if(tag==\"F\" or tag==\"f\"):\n",
    "                nearfall = \"f\"\n",
    "        t=str(ac[0])+\",\"+str(ac[1])+\",\"+str(ac[2])+\",\"+nearfall\n",
    "        with open(\"trainingdata.txt\", \"a\") as myfile:\n",
    "            myfile.write(\"%s\\n\" % t)\n",
    "        ftag = input(\"DESEA SEGUIR ENTRENANDO, Y o N: \")\n",
    "        if(ftag==\"N\" or ftag==\"n\"):\n",
    "            flag = False \n",
    "             "
   ]
  },
  {
   "cell_type": "markdown",
   "metadata": {
    "colab_type": "text",
    "id": "CZtkEOCF4ZaQ"
   },
   "source": [
    "La función de entrenamiento es bastante sencilla, cada vez que detectamos un vector de aceleración con una norma elevada (según los criterios definidos en el módulo anterior) lo enviamos como paramétro a la función de entrenamiento. Como estamos hablando de aprendizaje supervisado, lo que hace la función es preguntar al usuario si el vector recibido corresponde a una caída o no. Y de acuerdo con la respuesta le asociamos una etiqueta (identificador) al vector en cuestión. Hacemos esto por cada dato que recibamos en tiempo real, además de guardar los valores (x,y,z,tag) en un archivo que será nuesto trainingSet. \n",
    "\n",
    "Además, para entrenar el modelo el sujeto de prueba realizo acciones como sentarse, incorporarse, correr, arrojar el teléfono, subir escaleras, bajar escaleras, sacar el telefono del bolsillo y volver a introducirlo, y caer al suelo. Todo con el ánimo de tener un dataSet lo más completo posible."
   ]
  },
  {
   "cell_type": "markdown",
   "metadata": {
    "colab_type": "text",
    "id": "mwX360Ik6YLR"
   },
   "source": [
    "#### Clasificación"
   ]
  },
  {
   "cell_type": "code",
   "execution_count": 5,
   "metadata": {
    "colab": {},
    "colab_type": "code",
    "id": "7GQNiWvv6gAl"
   },
   "outputs": [],
   "source": [
    "def nearestpoint(ac):\n",
    "    f = open(\"trainingdata.txt\", \"r\")\n",
    "    st = f.readline()\n",
    "    minimun = float(\"inf\")\n",
    "    falltag = \"f\"\n",
    "    while (st!=\"\" and st!=\"\\n\"):\n",
    "        st = st.split(\",\")\n",
    "        distance = math.sqrt((ac[0]-float(st[0]))**2 + (ac[1]-float(st[1]))**2 + (ac[2]-float(st[2]))**2)\n",
    "        if(distance < minimun):\n",
    "            minimun = distance\n",
    "            fta = st[3].split(\"\\n\")[0]\n",
    "            falltag = fta\n",
    "        st = f.readline()\n",
    "    return falltag"
   ]
  },
  {
   "cell_type": "markdown",
   "metadata": {
    "colab_type": "text",
    "id": "ezaApqIq6lF9"
   },
   "source": [
    "La función de clasificación es una simplificación del algoritmo K-Nearest Neighbor. De hecho, es un caso particular del mismo con K=1.\n",
    "\n",
    "![texto alternativo](https://en.proft.me/media/science/r_knn_classify.png)\n",
    "\n",
    "Lo que hace la función de clasificación es que dado un vector de aceleración atípico (con norma muy distinta a la media) busca el vector más cercano entre todos los que están almacenados en nuestro trainigSet. Cuando lo encuentre,  busca la etiqueta asociada a ese vector y con base en eso reconoce si el dato ingresado corresponde a una caída o no. \n",
    "\n",
    "Como sólo se está realizando clasificación entre dos categorías (caída/no caída) es de esperarse que el algoritmo sea eficaz. Además, luego de cada intento de clasificación le estamos dando retroalimentación al sistema, para confirmar si su respuesta corresponde con la realidad. Esto es útil porque nos ayuda a aumentar la base de datos del entrenamiento.\n"
   ]
  },
  {
   "cell_type": "markdown",
   "metadata": {
    "colab_type": "text",
    "id": "BUA0xwTiDGNO"
   },
   "source": [
    "### Aplicación:\n"
   ]
  },
  {
   "cell_type": "code",
   "execution_count": 6,
   "metadata": {
    "colab": {},
    "colab_type": "code",
    "id": "-K04GEVvD9Wg"
   },
   "outputs": [],
   "source": [
    "def aplication(email):\n",
    "    global gps\n",
    "    global flag\n",
    "    m = text(\"FallDetektor 2.0 ha detectado una caida. \\nAproximadamente en: http://google.com/maps/place/\"+str(gps[0])+\",\"+str(gps[1])+\n",
    "             \"\\n \\nAtentamente, \\nFallDetektor 2.0 Team\")\n",
    "    m['Subject'] = 'Se ha detectado una caída!'\n",
    "    mail = smtplib.SMTP('smtp.gmail.com',587)\n",
    "    mail.ehlo()\n",
    "    mail.starttls()\n",
    "    mail.login('automatedfalldt@gmail.com',\"Spiderman123\")\n",
    "    mail.sendmail('automatedfalldt@gmail.com',email,m.as_string())\n",
    "    mail.close()\n",
    "    print(\"El email se ha enviado corrrectamente\")\n",
    "    exittag = input(\"Desea Salir, Y o N: \")\n",
    "    if(exittag==\"Y\" or exittag==\"y\"):\n",
    "        flag = False\n",
    "    "
   ]
  },
  {
   "cell_type": "markdown",
   "metadata": {
    "colab_type": "text",
    "id": "OjfYHa2KD_6Q"
   },
   "source": [
    "El código de la aplicación nos sirve para cumplir con los requisitos operacionales del proyecto. Este sencillo código envía una alerta de caída al e-mail que ha especificado el usuario. En la alerta encontraremos las coordenadas en donde se ha producido la caída, además de un link de Google Maps que nos muestra donde están estas coordenadas con imagenes satelitales y mapas.\n",
    "## Resultados\n",
    "\n",
    "Una vez el modelo fue entrenado se relaizaron diversas pruebas, de las cuales tuvimos los siguientes resultados, 9 de cada 10 alertas fueron enviados de manera correcta. Se realizaron las siguientes pruebas:\n",
    "\n",
    "* **Subir Escaleras**\n",
    "https://drive.google.com/file/d/1JTZxJnC3Dj5-iyfLLSxHxrptU_G9tVYp/view?usp=sharing\n",
    "https://drive.google.com/file/d/1uZiMWgsTEJoAhPudZNmxQNBCAkI3AEOE/view?usp=sharing\n",
    "\n",
    "* **Bajar Escaleras** https://drive.google.com/file/d/1wIsjrcYTXCeARpOh8Ocqgi9SME7vdqOv/view?usp=sharing\n",
    "\n",
    "* **Caminar**\n",
    "https://drive.google.com/file/d/1jC_46A22GuhfBqeCyU5PGrLuFs_kxI_P/view?usp=sharing\n",
    "\n",
    "* **Sentarse**\n",
    "https://drive.google.com/file/d/1cD5sQ-RV3Hp55zAgtc_cQYki8dQ-tIbo/view?usp=sharing\n",
    "\n",
    "* **Pararse**\n",
    "https://drive.google.com/file/d/1r4dSnz4okml1nrSJjCPrsAA9BNTM6nKE/view?usp=sharing\n",
    "\n",
    "\n",
    "\n",
    "### Descripción de los Archivos\n",
    "\n",
    "* IdleData.txt: En este archivo se almacenan todas las magnitudes de los vectores del muestreo.\n",
    "* stats.txt: En este archivo se almacena la media y la varianza del muestreo.\n",
    "* trainingdata.txt: En este archivo se almacenan todos los datos del entrenamiento.\n",
    "\n",
    "Por ultimo en la funcion menu(), podemos acceder a todas las funcionalidades que tiene el programa."
   ]
  },
  {
   "cell_type": "code",
   "execution_count": 7,
   "metadata": {
    "colab": {},
    "colab_type": "code",
    "id": "SJ3P17JlOMRP"
   },
   "outputs": [],
   "source": [
    "def menu():\n",
    "    global standard\n",
    "    global mean\n",
    "    if(os.stat(\"stats.txt\").st_size != 0):\n",
    "        stats = open(\"stats.txt\", \"r\")\n",
    "        standard = float(stats.readline().split(\"\\n\")[0])\n",
    "        mean = float(stats.readline().split(\"\\n\")[0])\n",
    "    print(\"************MAIN MENU************** \\n\")\n",
    "    \n",
    "    print (\"Welcome to your silly fall-detection solution.\\n \")\n",
    "\n",
    "    choice = input(\"\"\"\n",
    "                      1: Record idle data\n",
    "                      2: Training\n",
    "                      3: Aplication\n",
    "                      4: Exit\n",
    "\n",
    "                      Please enter your choice: \"\"\")\n",
    "\n",
    "    if (choice == \"1\") :\n",
    "        listenTo(\"idle\")\n",
    "    elif (choice == \"2\"):\n",
    "        listenTo(\"training\")\n",
    "    elif (choice == \"3\"):\n",
    "        listenTo(\"aplication\")\n",
    "    elif (choice == \"4\"):\n",
    "        sys.exit\n",
    "    else:\n",
    "        print(\"You must only select either 1,2,3 or 4.\")\n",
    "        print(\"Please try again\")\n",
    "        menu()\n"
   ]
  },
  {
   "cell_type": "markdown",
   "metadata": {
    "colab_type": "text",
    "id": "0c7_lqo9Q_uG"
   },
   "source": [
    "## Ejecucion\n",
    "Para ejecutar el programa, es necesario correr la siguiente celda de codigo"
   ]
  },
  {
   "cell_type": "code",
   "execution_count": null,
   "metadata": {
    "colab": {},
    "colab_type": "code",
    "id": "xQB8pxy8OX2w"
   },
   "outputs": [
    {
     "name": "stdout",
     "output_type": "stream",
     "text": [
      "************MAIN MENU************** \n",
      "\n",
      "Welcome to your silly fall-detection solution.\n",
      " \n",
      "\n",
      "                      1: Record idle data\n",
      "                      2: Training\n",
      "                      3: Aplication\n",
      "                      4: Exit\n",
      "\n",
      "                      Please enter your choice: 3\n",
      "Ingrese su email: fagomezj@gmail.com\n",
      "Se ha detectado una señal de GPS\n",
      "Se ha detectado una señal de GPS\n",
      "Se ha detectado una señal de GPS\n",
      "Dato Atipico\n",
      "Falldetektor ha detectado una caída\n",
      "El email se ha enviado corrrectamente\n"
     ]
    }
   ],
   "source": [
    "menu()"
   ]
  },
  {
   "cell_type": "code",
   "execution_count": null,
   "metadata": {},
   "outputs": [],
   "source": []
  }
 ],
 "metadata": {
  "colab": {
   "collapsed_sections": [],
   "name": "Falldetektor 2.0.ipynb",
   "provenance": [
    {
     "file_id": "1tdez2kkvbO8SjE84kxxTrPp_tG-QM8wL",
     "timestamp": 1569189563557
    }
   ]
  },
  "kernelspec": {
   "display_name": "Python 3",
   "language": "python",
   "name": "python3"
  },
  "language_info": {
   "codemirror_mode": {
    "name": "ipython",
    "version": 3
   },
   "file_extension": ".py",
   "mimetype": "text/x-python",
   "name": "python",
   "nbconvert_exporter": "python",
   "pygments_lexer": "ipython3",
   "version": "3.7.0"
  }
 },
 "nbformat": 4,
 "nbformat_minor": 1
}
